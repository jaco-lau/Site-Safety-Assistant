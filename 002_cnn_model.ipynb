{
 "cells": [
  {
   "cell_type": "code",
   "execution_count": 1,
   "metadata": {},
   "outputs": [],
   "source": [
    "import numpy as np\n",
    "import pandas as pd \n",
    "import matplotlib.pyplot as plt\n",
    "import tensorflow as tf\n",
    "import os\n",
    "\n",
    "from tensorflow.keras import layers\n",
    "from tensorflow.keras import Sequential\n",
    "from tensorflow.keras.preprocessing import image_dataset_from_directory\n",
    "from tensorflow.keras.layers import Dense, Dropout, Flatten, Conv2D, MaxPooling2D\n",
    "from tensorflow.keras.callbacks import EarlyStopping\n",
    "from tensorflow.keras.models import load_model\n",
    "\n",
    "from time import perf_counter "
   ]
  },
  {
   "cell_type": "markdown",
   "metadata": {},
   "source": [
    "# Modeling"
   ]
  },
  {
   "cell_type": "code",
   "execution_count": 2,
   "metadata": {},
   "outputs": [
    {
     "name": "stdout",
     "output_type": "stream",
     "text": [
      "Found 6051 files belonging to 3 classes.\n"
     ]
    }
   ],
   "source": [
    "# loading training set\n",
    "train_set = image_dataset_from_directory(\n",
    "    './data/images/train/',\n",
    "    label_mode = 'categorical',\n",
    "    color_mode = 'rgb',\n",
    "    batch_size = 100,\n",
    "    image_size = (416,416)\n",
    ")"
   ]
  },
  {
   "cell_type": "code",
   "execution_count": 3,
   "metadata": {},
   "outputs": [
    {
     "name": "stdout",
     "output_type": "stream",
     "text": [
      "Found 1986 files belonging to 3 classes.\n"
     ]
    }
   ],
   "source": [
    "# load test set\n",
    "test_set = image_dataset_from_directory(\n",
    "    './data/images/test/',\n",
    "    label_mode = 'categorical',\n",
    "    color_mode = 'rgb',\n",
    "    batch_size = 100,\n",
    "    image_size = (416,416)\n",
    ")"
   ]
  },
  {
   "cell_type": "code",
   "execution_count": 4,
   "metadata": {},
   "outputs": [
    {
     "data": {
      "text/plain": [
       "['both', 'hard_hat', 'not_hh']"
      ]
     },
     "execution_count": 4,
     "metadata": {},
     "output_type": "execute_result"
    }
   ],
   "source": [
    "train_set.class_names"
   ]
  },
  {
   "cell_type": "code",
   "execution_count": 5,
   "metadata": {},
   "outputs": [
    {
     "data": {
      "text/plain": [
       "['both', 'hard_hat', 'not_hh']"
      ]
     },
     "execution_count": 5,
     "metadata": {},
     "output_type": "execute_result"
    }
   ],
   "source": [
    "test_set.class_names"
   ]
  },
  {
   "cell_type": "markdown",
   "metadata": {},
   "source": [
    "## NN"
   ]
  },
  {
   "cell_type": "code",
   "execution_count": 6,
   "metadata": {},
   "outputs": [],
   "source": [
    "cnn = Sequential(layers.BatchNormalization())"
   ]
  },
  {
   "cell_type": "code",
   "execution_count": 7,
   "metadata": {},
   "outputs": [],
   "source": [
    "cnn.add(Conv2D(filters = 16,\n",
    "              kernel_size = (3,3),\n",
    "              activation = 'relu',\n",
    "              input_shape = (416,416,1)))"
   ]
  },
  {
   "cell_type": "code",
   "execution_count": 8,
   "metadata": {},
   "outputs": [],
   "source": [
    "cnn.add(MaxPooling2D(pool_size = (2,2)))"
   ]
  },
  {
   "cell_type": "code",
   "execution_count": 9,
   "metadata": {},
   "outputs": [],
   "source": [
    "cnn.add(Conv2D(filters = 32,\n",
    "                     kernel_size = (3,3),\n",
    "                     activation = 'relu'))"
   ]
  },
  {
   "cell_type": "code",
   "execution_count": 10,
   "metadata": {},
   "outputs": [],
   "source": [
    "cnn.add(MaxPooling2D(pool_size = (2,2)))"
   ]
  },
  {
   "cell_type": "code",
   "execution_count": 11,
   "metadata": {},
   "outputs": [],
   "source": [
    "cnn.add(Conv2D(filters = 64,\n",
    "                     kernel_size = (3,3),\n",
    "                     activation = 'relu'))"
   ]
  },
  {
   "cell_type": "code",
   "execution_count": 12,
   "metadata": {},
   "outputs": [],
   "source": [
    "cnn.add(MaxPooling2D(pool_size = (2,2)))"
   ]
  },
  {
   "cell_type": "code",
   "execution_count": 13,
   "metadata": {},
   "outputs": [],
   "source": [
    "cnn.add(Conv2D(filters = 128,\n",
    "                     kernel_size = (3,3),\n",
    "                     activation = 'relu'))"
   ]
  },
  {
   "cell_type": "code",
   "execution_count": 14,
   "metadata": {},
   "outputs": [],
   "source": [
    "cnn.add(MaxPooling2D(pool_size = (2,2)))"
   ]
  },
  {
   "cell_type": "code",
   "execution_count": 15,
   "metadata": {},
   "outputs": [],
   "source": [
    "cnn.add(Conv2D(filters = 256,\n",
    "                     kernel_size = (3,3),\n",
    "                     activation = 'relu'))"
   ]
  },
  {
   "cell_type": "code",
   "execution_count": 16,
   "metadata": {},
   "outputs": [],
   "source": [
    "cnn.add(MaxPooling2D(pool_size = (2,2)))"
   ]
  },
  {
   "cell_type": "code",
   "execution_count": 17,
   "metadata": {},
   "outputs": [],
   "source": [
    "cnn.add(Conv2D(filters = 512,\n",
    "              kernel_size = (3,3),\n",
    "              activation = 'relu',\n",
    "              input_shape = (416,416,1)))"
   ]
  },
  {
   "cell_type": "code",
   "execution_count": 18,
   "metadata": {},
   "outputs": [],
   "source": [
    "cnn.add(MaxPooling2D(pool_size = (2,2)))"
   ]
  },
  {
   "cell_type": "code",
   "execution_count": 19,
   "metadata": {},
   "outputs": [],
   "source": [
    "cnn.add(Conv2D(filters = 1024,\n",
    "                     kernel_size = (3,3),\n",
    "                     activation = 'relu'))"
   ]
  },
  {
   "cell_type": "code",
   "execution_count": 20,
   "metadata": {},
   "outputs": [],
   "source": [
    "cnn.add(MaxPooling2D(pool_size = (2,2)))"
   ]
  },
  {
   "cell_type": "code",
   "execution_count": 21,
   "metadata": {},
   "outputs": [],
   "source": [
    "cnn.add(Flatten())"
   ]
  },
  {
   "cell_type": "code",
   "execution_count": 22,
   "metadata": {},
   "outputs": [],
   "source": [
    "cnn.add(Dense(2048, activation = 'relu'))"
   ]
  },
  {
   "cell_type": "code",
   "execution_count": 23,
   "metadata": {},
   "outputs": [],
   "source": [
    "cnn.add(Dense(3,activation = 'softmax'))"
   ]
  },
  {
   "cell_type": "code",
   "execution_count": 24,
   "metadata": {},
   "outputs": [],
   "source": [
    "cnn.compile(optimizer = 'adam', loss = 'categorical_crossentropy',metrics = ['accuracy','Recall','Precision'])"
   ]
  },
  {
   "cell_type": "code",
   "execution_count": 25,
   "metadata": {},
   "outputs": [],
   "source": [
    "early_stop = EarlyStopping(monitor = 'accuracy',min_delta = 0, \n",
    "                           patience = 5,verbose = 1,mode = 'auto')"
   ]
  },
  {
   "cell_type": "code",
   "execution_count": 26,
   "metadata": {
    "scrolled": false
   },
   "outputs": [
    {
     "name": "stdout",
     "output_type": "stream",
     "text": [
      "Epoch 1/5\n",
      "61/61 [==============================] - 668s 11s/step - loss: 0.9474 - accuracy: 0.7019 - recall: 0.4866 - precision: 0.7114 - val_loss: 0.8067 - val_accuracy: 0.7185 - val_recall: 0.7185 - val_precision: 0.7185\n",
      "Epoch 2/5\n",
      "61/61 [==============================] - 639s 10s/step - loss: 0.7535 - accuracy: 0.7110 - recall: 0.7029 - precision: 0.7154 - val_loss: 0.7235 - val_accuracy: 0.7185 - val_recall: 0.7160 - val_precision: 0.7266\n",
      "Epoch 3/5\n",
      "61/61 [==============================] - 645s 11s/step - loss: 0.6867 - accuracy: 0.7226 - recall: 0.6788 - precision: 0.7608 - val_loss: 0.6440 - val_accuracy: 0.7603 - val_recall: 0.7341 - val_precision: 0.7772\n",
      "Epoch 4/5\n",
      "61/61 [==============================] - 640s 10s/step - loss: 0.6286 - accuracy: 0.7597 - recall: 0.7321 - precision: 0.7833 - val_loss: 0.6299 - val_accuracy: 0.7734 - val_recall: 0.7563 - val_precision: 0.7803\n",
      "Epoch 5/5\n",
      "61/61 [==============================] - 637s 10s/step - loss: 0.5723 - accuracy: 0.7857 - recall: 0.7675 - precision: 0.8022 - val_loss: 0.5754 - val_accuracy: 0.7976 - val_recall: 0.7845 - val_precision: 0.8089\n"
     ]
    }
   ],
   "source": [
    "cnn.fit(train_set, validation_data = test_set,epochs = 5,workers = 12, callbacks = early_stop)"
   ]
  },
  {
   "cell_type": "code",
   "execution_count": 28,
   "metadata": {},
   "outputs": [
    {
     "name": "stdout",
     "output_type": "stream",
     "text": [
      "INFO:tensorflow:Assets written to: original/assets\n"
     ]
    }
   ],
   "source": [
    "cnn.save('./streamlit_app/models/site_safety')"
   ]
  },
  {
   "cell_type": "code",
   "execution_count": 29,
   "metadata": {},
   "outputs": [],
   "source": [
    "preds = cnn.predict(test_set)"
   ]
  },
  {
   "cell_type": "code",
   "execution_count": 30,
   "metadata": {},
   "outputs": [
    {
     "name": "stdout",
     "output_type": "stream",
     "text": [
      "[1 1 1 ... 1 1 2]\n"
     ]
    }
   ],
   "source": [
    "classes = np.argmax(preds, axis = 1)\n",
    "print(classes)"
   ]
  },
  {
   "cell_type": "code",
   "execution_count": 31,
   "metadata": {},
   "outputs": [],
   "source": [
    "preds = pd.DataFrame(classes)"
   ]
  },
  {
   "cell_type": "code",
   "execution_count": 32,
   "metadata": {},
   "outputs": [
    {
     "data": {
      "text/plain": [
       "1    1434\n",
       "2     529\n",
       "0      23\n",
       "Name: 0, dtype: int64"
      ]
     },
     "execution_count": 32,
     "metadata": {},
     "output_type": "execute_result"
    }
   ],
   "source": [
    "preds[0].value_counts()"
   ]
  },
  {
   "cell_type": "code",
   "execution_count": 33,
   "metadata": {
    "scrolled": true
   },
   "outputs": [
    {
     "data": {
      "text/html": [
       "<div>\n",
       "<style scoped>\n",
       "    .dataframe tbody tr th:only-of-type {\n",
       "        vertical-align: middle;\n",
       "    }\n",
       "\n",
       "    .dataframe tbody tr th {\n",
       "        vertical-align: top;\n",
       "    }\n",
       "\n",
       "    .dataframe thead th {\n",
       "        text-align: right;\n",
       "    }\n",
       "</style>\n",
       "<table border=\"1\" class=\"dataframe\">\n",
       "  <thead>\n",
       "    <tr style=\"text-align: right;\">\n",
       "      <th></th>\n",
       "      <th>filename</th>\n",
       "      <th>not_hard_hat</th>\n",
       "      <th>hard_hat</th>\n",
       "      <th>target</th>\n",
       "    </tr>\n",
       "  </thead>\n",
       "  <tbody>\n",
       "    <tr>\n",
       "      <th>0</th>\n",
       "      <td>005298_jpg.rf.7d1070e4a462d4c636a68e64f2013761...</td>\n",
       "      <td>0</td>\n",
       "      <td>1</td>\n",
       "      <td>0</td>\n",
       "    </tr>\n",
       "    <tr>\n",
       "      <th>1</th>\n",
       "      <td>005299_jpg.rf.a79cacc62cdd99ad871cf1786ad865ff...</td>\n",
       "      <td>0</td>\n",
       "      <td>1</td>\n",
       "      <td>0</td>\n",
       "    </tr>\n",
       "    <tr>\n",
       "      <th>2</th>\n",
       "      <td>005300_jpg.rf.419d88422f77db5d30bbb0e769c7c600...</td>\n",
       "      <td>1</td>\n",
       "      <td>1</td>\n",
       "      <td>2</td>\n",
       "    </tr>\n",
       "    <tr>\n",
       "      <th>3</th>\n",
       "      <td>005301_jpg.rf.c9590992f2ae3693821268735bc7191b...</td>\n",
       "      <td>1</td>\n",
       "      <td>0</td>\n",
       "      <td>1</td>\n",
       "    </tr>\n",
       "    <tr>\n",
       "      <th>4</th>\n",
       "      <td>005302_jpg.rf.3f9ff0dcbfa01ac541e96d7aa79685ff...</td>\n",
       "      <td>0</td>\n",
       "      <td>1</td>\n",
       "      <td>0</td>\n",
       "    </tr>\n",
       "    <tr>\n",
       "      <th>...</th>\n",
       "      <td>...</td>\n",
       "      <td>...</td>\n",
       "      <td>...</td>\n",
       "      <td>...</td>\n",
       "    </tr>\n",
       "    <tr>\n",
       "      <th>1761</th>\n",
       "      <td>007059_jpg.rf.abefc5190c7d3e869d026750d345ac3a...</td>\n",
       "      <td>0</td>\n",
       "      <td>1</td>\n",
       "      <td>0</td>\n",
       "    </tr>\n",
       "    <tr>\n",
       "      <th>1762</th>\n",
       "      <td>007060_jpg.rf.3a70f64aeb8fa4376eb4c039eff278db...</td>\n",
       "      <td>0</td>\n",
       "      <td>1</td>\n",
       "      <td>0</td>\n",
       "    </tr>\n",
       "    <tr>\n",
       "      <th>1763</th>\n",
       "      <td>007061_jpg.rf.1668007dcbe41891c62bcd48d7b03d4c...</td>\n",
       "      <td>0</td>\n",
       "      <td>1</td>\n",
       "      <td>0</td>\n",
       "    </tr>\n",
       "    <tr>\n",
       "      <th>1764</th>\n",
       "      <td>007062_jpg.rf.7e538c4f7f163acbec263ad8f0ac98da...</td>\n",
       "      <td>1</td>\n",
       "      <td>1</td>\n",
       "      <td>2</td>\n",
       "    </tr>\n",
       "    <tr>\n",
       "      <th>1765</th>\n",
       "      <td>007063_jpg.rf.9cb3a6f6feecd1c4d7204a365b67a229...</td>\n",
       "      <td>0</td>\n",
       "      <td>1</td>\n",
       "      <td>0</td>\n",
       "    </tr>\n",
       "  </tbody>\n",
       "</table>\n",
       "<p>1766 rows × 4 columns</p>\n",
       "</div>"
      ],
      "text/plain": [
       "                                               filename  not_hard_hat  \\\n",
       "0     005298_jpg.rf.7d1070e4a462d4c636a68e64f2013761...             0   \n",
       "1     005299_jpg.rf.a79cacc62cdd99ad871cf1786ad865ff...             0   \n",
       "2     005300_jpg.rf.419d88422f77db5d30bbb0e769c7c600...             1   \n",
       "3     005301_jpg.rf.c9590992f2ae3693821268735bc7191b...             1   \n",
       "4     005302_jpg.rf.3f9ff0dcbfa01ac541e96d7aa79685ff...             0   \n",
       "...                                                 ...           ...   \n",
       "1761  007059_jpg.rf.abefc5190c7d3e869d026750d345ac3a...             0   \n",
       "1762  007060_jpg.rf.3a70f64aeb8fa4376eb4c039eff278db...             0   \n",
       "1763  007061_jpg.rf.1668007dcbe41891c62bcd48d7b03d4c...             0   \n",
       "1764  007062_jpg.rf.7e538c4f7f163acbec263ad8f0ac98da...             1   \n",
       "1765  007063_jpg.rf.9cb3a6f6feecd1c4d7204a365b67a229...             0   \n",
       "\n",
       "      hard_hat  target  \n",
       "0            1       0  \n",
       "1            1       0  \n",
       "2            1       2  \n",
       "3            0       1  \n",
       "4            1       0  \n",
       "...        ...     ...  \n",
       "1761         1       0  \n",
       "1762         1       0  \n",
       "1763         1       0  \n",
       "1764         1       2  \n",
       "1765         1       0  \n",
       "\n",
       "[1766 rows x 4 columns]"
      ]
     },
     "execution_count": 33,
     "metadata": {},
     "output_type": "execute_result"
    }
   ],
   "source": [
    "test_df = pd.read_csv('./data/_test_classes.csv',index_col = 0)\n",
    "test_df"
   ]
  },
  {
   "cell_type": "code",
   "execution_count": 34,
   "metadata": {},
   "outputs": [
    {
     "data": {
      "text/html": [
       "<div>\n",
       "<style scoped>\n",
       "    .dataframe tbody tr th:only-of-type {\n",
       "        vertical-align: middle;\n",
       "    }\n",
       "\n",
       "    .dataframe tbody tr th {\n",
       "        vertical-align: top;\n",
       "    }\n",
       "\n",
       "    .dataframe thead th {\n",
       "        text-align: right;\n",
       "    }\n",
       "</style>\n",
       "<table border=\"1\" class=\"dataframe\">\n",
       "  <thead>\n",
       "    <tr style=\"text-align: right;\">\n",
       "      <th></th>\n",
       "      <th>filename</th>\n",
       "      <th>not_hard_hat</th>\n",
       "      <th>hard_hat</th>\n",
       "      <th>target</th>\n",
       "      <th>preds</th>\n",
       "    </tr>\n",
       "  </thead>\n",
       "  <tbody>\n",
       "    <tr>\n",
       "      <th>0</th>\n",
       "      <td>005298_jpg.rf.7d1070e4a462d4c636a68e64f2013761...</td>\n",
       "      <td>0</td>\n",
       "      <td>1</td>\n",
       "      <td>0</td>\n",
       "      <td>1</td>\n",
       "    </tr>\n",
       "    <tr>\n",
       "      <th>1</th>\n",
       "      <td>005299_jpg.rf.a79cacc62cdd99ad871cf1786ad865ff...</td>\n",
       "      <td>0</td>\n",
       "      <td>1</td>\n",
       "      <td>0</td>\n",
       "      <td>1</td>\n",
       "    </tr>\n",
       "    <tr>\n",
       "      <th>2</th>\n",
       "      <td>005300_jpg.rf.419d88422f77db5d30bbb0e769c7c600...</td>\n",
       "      <td>1</td>\n",
       "      <td>1</td>\n",
       "      <td>2</td>\n",
       "      <td>1</td>\n",
       "    </tr>\n",
       "    <tr>\n",
       "      <th>3</th>\n",
       "      <td>005301_jpg.rf.c9590992f2ae3693821268735bc7191b...</td>\n",
       "      <td>1</td>\n",
       "      <td>0</td>\n",
       "      <td>1</td>\n",
       "      <td>1</td>\n",
       "    </tr>\n",
       "    <tr>\n",
       "      <th>4</th>\n",
       "      <td>005302_jpg.rf.3f9ff0dcbfa01ac541e96d7aa79685ff...</td>\n",
       "      <td>0</td>\n",
       "      <td>1</td>\n",
       "      <td>0</td>\n",
       "      <td>1</td>\n",
       "    </tr>\n",
       "    <tr>\n",
       "      <th>...</th>\n",
       "      <td>...</td>\n",
       "      <td>...</td>\n",
       "      <td>...</td>\n",
       "      <td>...</td>\n",
       "      <td>...</td>\n",
       "    </tr>\n",
       "    <tr>\n",
       "      <th>1761</th>\n",
       "      <td>007059_jpg.rf.abefc5190c7d3e869d026750d345ac3a...</td>\n",
       "      <td>0</td>\n",
       "      <td>1</td>\n",
       "      <td>0</td>\n",
       "      <td>1</td>\n",
       "    </tr>\n",
       "    <tr>\n",
       "      <th>1762</th>\n",
       "      <td>007060_jpg.rf.3a70f64aeb8fa4376eb4c039eff278db...</td>\n",
       "      <td>0</td>\n",
       "      <td>1</td>\n",
       "      <td>0</td>\n",
       "      <td>2</td>\n",
       "    </tr>\n",
       "    <tr>\n",
       "      <th>1763</th>\n",
       "      <td>007061_jpg.rf.1668007dcbe41891c62bcd48d7b03d4c...</td>\n",
       "      <td>0</td>\n",
       "      <td>1</td>\n",
       "      <td>0</td>\n",
       "      <td>2</td>\n",
       "    </tr>\n",
       "    <tr>\n",
       "      <th>1764</th>\n",
       "      <td>007062_jpg.rf.7e538c4f7f163acbec263ad8f0ac98da...</td>\n",
       "      <td>1</td>\n",
       "      <td>1</td>\n",
       "      <td>2</td>\n",
       "      <td>1</td>\n",
       "    </tr>\n",
       "    <tr>\n",
       "      <th>1765</th>\n",
       "      <td>007063_jpg.rf.9cb3a6f6feecd1c4d7204a365b67a229...</td>\n",
       "      <td>0</td>\n",
       "      <td>1</td>\n",
       "      <td>0</td>\n",
       "      <td>1</td>\n",
       "    </tr>\n",
       "  </tbody>\n",
       "</table>\n",
       "<p>1766 rows × 5 columns</p>\n",
       "</div>"
      ],
      "text/plain": [
       "                                               filename  not_hard_hat  \\\n",
       "0     005298_jpg.rf.7d1070e4a462d4c636a68e64f2013761...             0   \n",
       "1     005299_jpg.rf.a79cacc62cdd99ad871cf1786ad865ff...             0   \n",
       "2     005300_jpg.rf.419d88422f77db5d30bbb0e769c7c600...             1   \n",
       "3     005301_jpg.rf.c9590992f2ae3693821268735bc7191b...             1   \n",
       "4     005302_jpg.rf.3f9ff0dcbfa01ac541e96d7aa79685ff...             0   \n",
       "...                                                 ...           ...   \n",
       "1761  007059_jpg.rf.abefc5190c7d3e869d026750d345ac3a...             0   \n",
       "1762  007060_jpg.rf.3a70f64aeb8fa4376eb4c039eff278db...             0   \n",
       "1763  007061_jpg.rf.1668007dcbe41891c62bcd48d7b03d4c...             0   \n",
       "1764  007062_jpg.rf.7e538c4f7f163acbec263ad8f0ac98da...             1   \n",
       "1765  007063_jpg.rf.9cb3a6f6feecd1c4d7204a365b67a229...             0   \n",
       "\n",
       "      hard_hat  target  preds  \n",
       "0            1       0      1  \n",
       "1            1       0      1  \n",
       "2            1       2      1  \n",
       "3            0       1      1  \n",
       "4            1       0      1  \n",
       "...        ...     ...    ...  \n",
       "1761         1       0      1  \n",
       "1762         1       0      2  \n",
       "1763         1       0      2  \n",
       "1764         1       2      1  \n",
       "1765         1       0      1  \n",
       "\n",
       "[1766 rows x 5 columns]"
      ]
     },
     "execution_count": 34,
     "metadata": {},
     "output_type": "execute_result"
    }
   ],
   "source": [
    "test_df['preds'] = preds[0]\n",
    "test_df"
   ]
  },
  {
   "cell_type": "code",
   "execution_count": 35,
   "metadata": {},
   "outputs": [],
   "source": [
    "tp = []\n",
    "\n",
    "for x in range(len(test_df)):\n",
    "    if test_df['preds'][x] != test_df['hard_hat'][x]:\n",
    "        tp.append(x)"
   ]
  },
  {
   "cell_type": "code",
   "execution_count": 36,
   "metadata": {},
   "outputs": [],
   "source": [
    "fn = []\n",
    "\n",
    "trp = []\n",
    "\n",
    "for x in tp:\n",
    "    if test_df['preds'][x] == 1:\n",
    "        fn.append(x)\n",
    "    else:\n",
    "        trp.append(x)"
   ]
  },
  {
   "cell_type": "code",
   "execution_count": 37,
   "metadata": {},
   "outputs": [
    {
     "data": {
      "text/plain": [
       "117"
      ]
     },
     "execution_count": 37,
     "metadata": {},
     "output_type": "execute_result"
    }
   ],
   "source": [
    "len(fn)"
   ]
  },
  {
   "cell_type": "code",
   "execution_count": 38,
   "metadata": {},
   "outputs": [
    {
     "data": {
      "text/plain": [
       "486"
      ]
     },
     "execution_count": 38,
     "metadata": {},
     "output_type": "execute_result"
    }
   ],
   "source": [
    "len(trp)"
   ]
  },
  {
   "cell_type": "code",
   "execution_count": 39,
   "metadata": {},
   "outputs": [],
   "source": [
    "true_positive = []\n",
    "\n",
    "for x in trp:\n",
    "    if test_df['hard_hat'][x] == 1:\n",
    "        pass\n",
    "    else:\n",
    "        true_positive.append(x)"
   ]
  },
  {
   "cell_type": "code",
   "execution_count": 40,
   "metadata": {},
   "outputs": [
    {
     "data": {
      "text/plain": [
       "43"
      ]
     },
     "execution_count": 40,
     "metadata": {},
     "output_type": "execute_result"
    }
   ],
   "source": [
    "len(true_positive)"
   ]
  },
  {
   "cell_type": "code",
   "execution_count": 41,
   "metadata": {},
   "outputs": [
    {
     "name": "stdout",
     "output_type": "stream",
     "text": [
      "[81, 192, 218, 243, 275, 281, 283, 295, 296, 308, 336, 349, 412, 481, 496, 520, 559, 614, 756, 758, 763, 840, 845, 850, 883, 950, 981, 1043, 1053, 1182, 1209, 1302, 1321, 1322, 1470, 1491, 1523, 1572, 1575, 1627, 1675, 1738, 1758]\n"
     ]
    }
   ],
   "source": [
    "print(true_positive)"
   ]
  },
  {
   "cell_type": "code",
   "execution_count": 42,
   "metadata": {
    "scrolled": true
   },
   "outputs": [
    {
     "name": "stdout",
     "output_type": "stream",
     "text": [
      "005379_jpg.rf.2ed9c87be4989d21a12c61b0a05e6398.jpg\n",
      "005490_jpg.rf.9e481bdf97e64a0ae874db1eb8468553.jpg\n",
      "005516_jpg.rf.280220e4da23859c5f995c76c2c7c7b7.jpg\n",
      "005541_jpg.rf.360b6e3dd60609078153838d1cf8ed71.jpg\n",
      "005573_jpg.rf.b0b1a44884952dbb14d3c753ff08665a.jpg\n",
      "005579_jpg.rf.88d82901397aa90f11be6f1a5082a599.jpg\n",
      "005581_jpg.rf.c18f45b7e989fb90cc5bd61819785148.jpg\n",
      "005593_jpg.rf.875f0a552fb0734863f088a22cf3d5e1.jpg\n",
      "005594_jpg.rf.9e634fb9ed2e9299b23dce2fe9926556.jpg\n",
      "005606_jpg.rf.c683a4fe27ba31460a818e2f3d6097b6.jpg\n",
      "005634_jpg.rf.883500b6e17d64ad0e84bb285d74ab17.jpg\n",
      "005647_jpg.rf.7808ae0808aec7df7a33a1c4a9c09494.jpg\n",
      "005710_jpg.rf.bdb3363adbfc7f38dcda8f60fa72bb88.jpg\n",
      "005779_jpg.rf.f620055fdf80f168f17ee7d9c16e4096.jpg\n",
      "005794_jpg.rf.eae06a1f3608ace909c65fef0180a658.jpg\n",
      "005818_jpg.rf.23e0af08bfb3db3501759d4aa4364f7e.jpg\n",
      "005857_jpg.rf.c6175dfbb046f790ac0a2612dc9a3478.jpg\n",
      "005912_jpg.rf.0232549b729fa6a445e2cc9dfe47e92e.jpg\n",
      "006054_jpg.rf.236141ff51d09b0b696ee5afcbd6d0dd.jpg\n",
      "006056_jpg.rf.01114a2b771006d0f504c190479ad4db.jpg\n",
      "006061_jpg.rf.e260da3adf2d74ff438ebe1a7c044e74.jpg\n",
      "006138_jpg.rf.a9a7f9b3fad02497ded2ade2ba9898bf.jpg\n",
      "006143_jpg.rf.8a510848843146fec74579a2b74e7afd.jpg\n",
      "006148_jpg.rf.1b335bb89fc8b55307e20346197ba983.jpg\n",
      "006181_jpg.rf.1a021e9f95ea04df8ae1f7561bde648f.jpg\n",
      "006248_jpg.rf.2089af3f210b55d382c89c159512f8c2.jpg\n",
      "006279_jpg.rf.6566f575b0542f7049cfcc155d3a9db8.jpg\n",
      "006341_jpg.rf.de0dccfd56c2800f41af5d4377a51c3e.jpg\n",
      "006351_jpg.rf.19ad528264c3d287692a8f71772c21b8.jpg\n",
      "006480_jpg.rf.f848aa0cef438d2427df7991663e21d7.jpg\n",
      "006507_jpg.rf.dba7301908a09dba4b57a058357ae25a.jpg\n",
      "006600_jpg.rf.f546729949c268e671625d17bc714abc.jpg\n",
      "006619_jpg.rf.50213ab480ac19f0b779b31bfc3d1d6f.jpg\n",
      "006620_jpg.rf.713dae2a6adaf023da2d156afb46efdb.jpg\n",
      "006768_jpg.rf.30c03e710605b5ce88f6243e5e1957aa.jpg\n",
      "006789_jpg.rf.f1cafb317fa65d0a3d659e7e85d95466.jpg\n",
      "006821_jpg.rf.89bf3531e2ce01be608653ba0d6ccde1.jpg\n",
      "006870_jpg.rf.f3d4e60266fd058b768cb854a6eef9cb.jpg\n",
      "006873_jpg.rf.5d274994cb6a30451ffe0651e4f00725.jpg\n",
      "006925_jpg.rf.3a3bd2431fae41e2d9de9bd9f8362f76.jpg\n",
      "006973_jpg.rf.aceeab83f69a1ecb075fdd0b240dcfdb.jpg\n",
      "007036_jpg.rf.b1d1687e3fcf78d3c77598f1e231e18a.jpg\n",
      "007056_jpg.rf.0dc64e0426b4b39fdf09d72f9fe5c90d.jpg\n"
     ]
    }
   ],
   "source": [
    "for x in true_positive:\n",
    "    print(test_df['filename'][x])"
   ]
  }
 ],
 "metadata": {
  "kernelspec": {
   "display_name": "Python 3",
   "language": "python",
   "name": "python3"
  },
  "language_info": {
   "codemirror_mode": {
    "name": "ipython",
    "version": 3
   },
   "file_extension": ".py",
   "mimetype": "text/x-python",
   "name": "python",
   "nbconvert_exporter": "python",
   "pygments_lexer": "ipython3",
   "version": "3.8.3"
  }
 },
 "nbformat": 4,
 "nbformat_minor": 4
}
