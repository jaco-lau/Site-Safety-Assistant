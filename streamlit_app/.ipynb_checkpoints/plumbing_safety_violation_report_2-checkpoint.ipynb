{
 "cells": [
  {
   "cell_type": "markdown",
   "metadata": {},
   "source": [
    "<h4>Hero Contractors, LLC</h4>\n",
    "<br>\n",
    "\n",
    "<center><h1> Safety Violation Report </h1></center>\n",
    "<hr>\n",
    "\n",
    "<p><b>Name:</b> Construction Superintendent</p>\n",
    "<p><b>Date:</b> 2/22/2021</p>\n",
    "<p><b>Trade:</b> Plumbing</p>\n",
    "<p><b>Subcontractor:</b> Aqua Plumbing</p>\n",
    "<p><b>Foreman:</b> Arthur Curry</p>\n",
    "<hr>\n",
    "\n",
    "<center><h4> Violation of Rule </h4></center>\n",
    "<center><h6> 29 CFR 1910.135 </h6></center>\n",
    "<hr>\n",
    "\n",
    "<p><b>What Occured?</b><br>\n",
    "Hard hat violation by Aqua Plumbing employee.  Employee failed to wear hard hat when on site.  Various hazards around could lead to serious injury.</p>\n",
    "<hr>\n",
    "\n",
    "<p><b>Previous Offences by Trade:</b> One prior offense</p>\n",
    "<hr>\n",
    "\n",
    "<p><b>Reprimand:</b></p>\n",
    "<p><b>1st Offense:</b> Written Reprimand</p>\n",
    "<p><b>2nd Offense:</b> Sent home for the rest of the day or fined per contract</p>\n",
    "<p><b>3rd Offense:</b> Sent home for at least 3 days and fined per contract</p>\n",
    "<hr>\n",
    "\n",
    "<p><b>Reprimand for this violation:</b> Sent home for the rest of the day or fined per contract</p>\n",
    "<hr>\n",
    "<p><b>Evidence of Violation:</b></p>"
   ]
  }
 ],
 "metadata": {
  "kernelspec": {
   "display_name": "Python 3",
   "language": "python",
   "name": "python3"
  },
  "language_info": {
   "codemirror_mode": {
    "name": "ipython",
    "version": 3
   },
   "file_extension": ".py",
   "mimetype": "text/x-python",
   "name": "python",
   "nbconvert_exporter": "python",
   "pygments_lexer": "ipython3",
   "version": "3.8.3"
  }
 },
 "nbformat": 4,
 "nbformat_minor": 4
}
