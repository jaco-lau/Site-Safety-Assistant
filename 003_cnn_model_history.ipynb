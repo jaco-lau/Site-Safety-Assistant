{
 "cells": [
  {
   "cell_type": "code",
   "execution_count": 28,
   "metadata": {},
   "outputs": [],
   "source": [
    "import numpy as np\n",
    "import pandas as pd \n",
    "import matplotlib.pyplot as plt\n",
    "import tensorflow as tf\n",
    "import os\n",
    "import matplotlib.patches as mpatches\n",
    "\n",
    "from tensorflow.keras import layers\n",
    "from tensorflow.keras import Sequential\n",
    "from tensorflow.keras.preprocessing import image_dataset_from_directory\n",
    "from tensorflow.keras.layers import Dense, Dropout, Flatten, Conv2D, MaxPooling2D\n",
    "from tensorflow.keras.callbacks import EarlyStopping\n",
    "from tensorflow.keras.models import load_model\n",
    "\n",
    "from time import perf_counter "
   ]
  },
  {
   "cell_type": "markdown",
   "metadata": {},
   "source": [
    "# Modeling"
   ]
  },
  {
   "cell_type": "code",
   "execution_count": 2,
   "metadata": {},
   "outputs": [
    {
     "name": "stdout",
     "output_type": "stream",
     "text": [
      "Found 6051 files belonging to 3 classes.\n"
     ]
    }
   ],
   "source": [
    "# loading training set\n",
    "train_set = image_dataset_from_directory(\n",
    "    '../hh_multi/data/original/train/',\n",
    "    label_mode = 'categorical',\n",
    "    color_mode = 'rgb',\n",
    "    batch_size = 100,\n",
    "    image_size = (416,416)\n",
    ")"
   ]
  },
  {
   "cell_type": "code",
   "execution_count": 3,
   "metadata": {},
   "outputs": [
    {
     "name": "stdout",
     "output_type": "stream",
     "text": [
      "Found 1986 files belonging to 3 classes.\n"
     ]
    }
   ],
   "source": [
    "# load test set\n",
    "test_set = image_dataset_from_directory(\n",
    "    '../hh_multi/data/original/test/',\n",
    "    label_mode = 'categorical',\n",
    "    color_mode = 'rgb',\n",
    "    batch_size = 100,\n",
    "    image_size = (416,416)\n",
    ")"
   ]
  },
  {
   "cell_type": "code",
   "execution_count": 4,
   "metadata": {},
   "outputs": [
    {
     "data": {
      "text/plain": [
       "['both', 'hard_hat', 'not_hh']"
      ]
     },
     "execution_count": 4,
     "metadata": {},
     "output_type": "execute_result"
    }
   ],
   "source": [
    "train_set.class_names"
   ]
  },
  {
   "cell_type": "code",
   "execution_count": 5,
   "metadata": {},
   "outputs": [
    {
     "data": {
      "text/plain": [
       "['both', 'hard_hat', 'not_hh']"
      ]
     },
     "execution_count": 5,
     "metadata": {},
     "output_type": "execute_result"
    }
   ],
   "source": [
    "test_set.class_names"
   ]
  },
  {
   "cell_type": "markdown",
   "metadata": {},
   "source": [
    "## NN"
   ]
  },
  {
   "cell_type": "code",
   "execution_count": 6,
   "metadata": {},
   "outputs": [],
   "source": [
    "cnn = Sequential(layers.BatchNormalization())"
   ]
  },
  {
   "cell_type": "code",
   "execution_count": 7,
   "metadata": {},
   "outputs": [],
   "source": [
    "cnn.add(Conv2D(filters = 16,\n",
    "              kernel_size = (3,3),\n",
    "              activation = 'relu',\n",
    "              input_shape = (416,416,1)))"
   ]
  },
  {
   "cell_type": "code",
   "execution_count": 8,
   "metadata": {},
   "outputs": [],
   "source": [
    "cnn.add(MaxPooling2D(pool_size = (2,2)))"
   ]
  },
  {
   "cell_type": "code",
   "execution_count": 9,
   "metadata": {},
   "outputs": [],
   "source": [
    "cnn.add(Conv2D(filters = 32,\n",
    "                     kernel_size = (3,3),\n",
    "                     activation = 'relu'))"
   ]
  },
  {
   "cell_type": "code",
   "execution_count": 10,
   "metadata": {},
   "outputs": [],
   "source": [
    "cnn.add(MaxPooling2D(pool_size = (2,2)))"
   ]
  },
  {
   "cell_type": "code",
   "execution_count": 11,
   "metadata": {},
   "outputs": [],
   "source": [
    "cnn.add(Conv2D(filters = 64,\n",
    "                     kernel_size = (3,3),\n",
    "                     activation = 'relu'))"
   ]
  },
  {
   "cell_type": "code",
   "execution_count": 12,
   "metadata": {},
   "outputs": [],
   "source": [
    "cnn.add(MaxPooling2D(pool_size = (2,2)))"
   ]
  },
  {
   "cell_type": "code",
   "execution_count": 13,
   "metadata": {},
   "outputs": [],
   "source": [
    "cnn.add(Conv2D(filters = 128,\n",
    "                     kernel_size = (3,3),\n",
    "                     activation = 'relu'))"
   ]
  },
  {
   "cell_type": "code",
   "execution_count": 14,
   "metadata": {},
   "outputs": [],
   "source": [
    "cnn.add(MaxPooling2D(pool_size = (2,2)))"
   ]
  },
  {
   "cell_type": "code",
   "execution_count": 15,
   "metadata": {},
   "outputs": [],
   "source": [
    "cnn.add(Conv2D(filters = 256,\n",
    "                     kernel_size = (3,3),\n",
    "                     activation = 'relu'))"
   ]
  },
  {
   "cell_type": "code",
   "execution_count": 16,
   "metadata": {},
   "outputs": [],
   "source": [
    "cnn.add(MaxPooling2D(pool_size = (2,2)))"
   ]
  },
  {
   "cell_type": "code",
   "execution_count": 17,
   "metadata": {},
   "outputs": [],
   "source": [
    "cnn.add(Conv2D(filters = 512,\n",
    "              kernel_size = (3,3),\n",
    "              activation = 'relu',\n",
    "              input_shape = (416,416,1)))"
   ]
  },
  {
   "cell_type": "code",
   "execution_count": 18,
   "metadata": {},
   "outputs": [],
   "source": [
    "cnn.add(MaxPooling2D(pool_size = (2,2)))"
   ]
  },
  {
   "cell_type": "code",
   "execution_count": 19,
   "metadata": {},
   "outputs": [],
   "source": [
    "cnn.add(Conv2D(filters = 1024,\n",
    "                     kernel_size = (3,3),\n",
    "                     activation = 'relu'))"
   ]
  },
  {
   "cell_type": "code",
   "execution_count": 20,
   "metadata": {},
   "outputs": [],
   "source": [
    "cnn.add(MaxPooling2D(pool_size = (2,2)))"
   ]
  },
  {
   "cell_type": "code",
   "execution_count": 21,
   "metadata": {},
   "outputs": [],
   "source": [
    "cnn.add(Flatten())"
   ]
  },
  {
   "cell_type": "code",
   "execution_count": 22,
   "metadata": {},
   "outputs": [],
   "source": [
    "cnn.add(Dense(2048, activation = 'relu'))"
   ]
  },
  {
   "cell_type": "code",
   "execution_count": 23,
   "metadata": {},
   "outputs": [],
   "source": [
    "cnn.add(Dense(3,activation = 'softmax'))"
   ]
  },
  {
   "cell_type": "code",
   "execution_count": 24,
   "metadata": {},
   "outputs": [],
   "source": [
    "cnn.compile(optimizer = 'adam', loss = 'categorical_crossentropy',metrics = ['accuracy','Recall','Precision'])"
   ]
  },
  {
   "cell_type": "code",
   "execution_count": 25,
   "metadata": {},
   "outputs": [],
   "source": [
    "early_stop = EarlyStopping(monitor = 'accuracy',min_delta = 0, \n",
    "                           patience = 5,verbose = 1,mode = 'auto')"
   ]
  },
  {
   "cell_type": "code",
   "execution_count": 26,
   "metadata": {
    "scrolled": false
   },
   "outputs": [
    {
     "name": "stdout",
     "output_type": "stream",
     "text": [
      "Epoch 1/5\n",
      "61/61 [==============================] - 668s 11s/step - loss: 0.9474 - accuracy: 0.7019 - recall: 0.4866 - precision: 0.7114 - val_loss: 0.8067 - val_accuracy: 0.7185 - val_recall: 0.7185 - val_precision: 0.7185\n",
      "Epoch 2/5\n",
      "61/61 [==============================] - 639s 10s/step - loss: 0.7535 - accuracy: 0.7110 - recall: 0.7029 - precision: 0.7154 - val_loss: 0.7235 - val_accuracy: 0.7185 - val_recall: 0.7160 - val_precision: 0.7266\n",
      "Epoch 3/5\n",
      "61/61 [==============================] - 645s 11s/step - loss: 0.6867 - accuracy: 0.7226 - recall: 0.6788 - precision: 0.7608 - val_loss: 0.6440 - val_accuracy: 0.7603 - val_recall: 0.7341 - val_precision: 0.7772\n",
      "Epoch 4/5\n",
      "61/61 [==============================] - 640s 10s/step - loss: 0.6286 - accuracy: 0.7597 - recall: 0.7321 - precision: 0.7833 - val_loss: 0.6299 - val_accuracy: 0.7734 - val_recall: 0.7563 - val_precision: 0.7803\n",
      "Epoch 5/5\n",
      "61/61 [==============================] - 637s 10s/step - loss: 0.5723 - accuracy: 0.7857 - recall: 0.7675 - precision: 0.8022 - val_loss: 0.5754 - val_accuracy: 0.7976 - val_recall: 0.7845 - val_precision: 0.8089\n"
     ]
    }
   ],
   "source": [
    "History = cnn.fit(train_set, validation_data = test_set,epochs = 5,workers = 12, callbacks = early_stop)"
   ]
  },
  {
   "cell_type": "code",
   "execution_count": 37,
   "metadata": {},
   "outputs": [
    {
     "data": {
      "image/png": "[encoded data removed]",
      "text/plain": [
       "<Figure size 432x288 with 1 Axes>"
      ]
     },
     "metadata": {
      "needs_background": "light"
     },
     "output_type": "display_data"
    }
   ],
   "source": [
    "ax1 = plt.plot(History.history['loss'],label = 'training loss')\n",
    "ax2 = plt.plot(History.history['val_loss'],label = 'test loss')\n",
    "\n",
    "plt.legend(loc='lower right')\n",
    "blue_patch = mpatches.Patch(color='dodgerblue', label='Training Loss')\n",
    "red_patch = mpatches.Patch(color='orange', label='Test Loss')\n",
    "plt.legend(handles=[red_patch,blue_patch])\n",
    "\n",
    "positions = range(5)\n",
    "labels = (1,2,3,4,5)\n",
    "plt.xticks(positions,labels)\n",
    "\n",
    "plt.xlabel('Epoch')\n",
    "plt.ylabel('Loss')\n",
    "plt.title('Training and Test Loss');"
   ]
  },
  {
   "cell_type": "code",
   "execution_count": 36,
   "metadata": {},
   "outputs": [
    {
     "data": {
      "image/png": "[encoded data removed]",
      "text/plain": [
       "<Figure size 432x288 with 1 Axes>"
      ]
     },
     "metadata": {
      "needs_background": "light"
     },
     "output_type": "display_data"
    }
   ],
   "source": [
    "ax1 = plt.plot(History.history['accuracy'],label = 'Training Accuracy')\n",
    "ax2 = plt.plot(History.history['val_accuracy'],label = 'Test Accuracy')\n",
    "\n",
    "plt.legend(loc='upper right')\n",
    "blue_patch = mpatches.Patch(color='dodgerblue', label='Training Accuracy')\n",
    "red_patch = mpatches.Patch(color='orange', label='Test Accuracy')\n",
    "plt.legend(handles=[red_patch,blue_patch])\n",
    "\n",
    "positions = range(5)\n",
    "labels = (1,2,3,4,5)\n",
    "plt.xticks(positions,labels)\n",
    "\n",
    "plt.xlabel('Epoch')\n",
    "plt.ylabel('Accuracy')\n",
    "plt.title('Training and Test Accuracy');"
   ]
  },
  {
   "cell_type": "code",
   "execution_count": 38,
   "metadata": {},
   "outputs": [
    {
     "data": {
      "image/png": "[encoded data removed]",
      "text/plain": [
       "<Figure size 432x288 with 1 Axes>"
      ]
     },
     "metadata": {
      "needs_background": "light"
     },
     "output_type": "display_data"
    }
   ],
   "source": [
    "ax1 = plt.plot(History.history['recall'],label = 'training Recall')\n",
    "ax2 = plt.plot(History.history['val_recall'],label = 'test Recall')\n",
    "\n",
    "plt.legend(loc='lower right')\n",
    "blue_patch = mpatches.Patch(color='dodgerblue', label='Training Recall')\n",
    "red_patch = mpatches.Patch(color='orange', label='Test Recall')\n",
    "plt.legend(handles=[red_patch,blue_patch])\n",
    "\n",
    "positions = range(5)\n",
    "labels = (1,2,3,4,5)\n",
    "plt.xticks(positions,labels)\n",
    "\n",
    "plt.xlabel('Epoch')\n",
    "plt.ylabel('Recall')\n",
    "plt.title('Training and Test Recall');"
   ]
  },
  {
   "cell_type": "code",
   "execution_count": 39,
   "metadata": {},
   "outputs": [
    {
     "data": {
      "image/png": "[encoded data removed]",
      "text/plain": [
       "<Figure size 432x288 with 1 Axes>"
      ]
     },
     "metadata": {
      "needs_background": "light"
     },
     "output_type": "display_data"
    }
   ],
   "source": [
    "ax1 = plt.plot(History.history['precision'],label = 'training Precision')\n",
    "ax2 = plt.plot(History.history['val_precision'],label = 'test Precision')\n",
    "\n",
    "plt.legend(loc='lower right')\n",
    "blue_patch = mpatches.Patch(color='dodgerblue', label='Training Precision')\n",
    "red_patch = mpatches.Patch(color='orange', label='Test Precision')\n",
    "plt.legend(handles=[red_patch,blue_patch])\n",
    "\n",
    "positions = range(5)\n",
    "labels = (1,2,3,4,5)\n",
    "plt.xticks(positions,labels)\n",
    "\n",
    "plt.xlabel('Epoch')\n",
    "plt.ylabel('Precision')\n",
    "plt.title('Training and Test Precision');"
   ]
  }
 ],
 "metadata": {
  "kernelspec": {
   "display_name": "Python 3",
   "language": "python",
   "name": "python3"
  },
  "language_info": {
   "codemirror_mode": {
    "name": "ipython",
    "version": 3
   },
   "file_extension": ".py",
   "mimetype": "text/x-python",
   "name": "python",
   "nbconvert_exporter": "python",
   "pygments_lexer": "ipython3",
   "version": "3.8.5"
  }
 },
 "nbformat": 4,
 "nbformat_minor": 4
}
